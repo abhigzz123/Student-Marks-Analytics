{
 "cells": [
  {
   "cell_type": "code",
   "execution_count": 7,
   "metadata": {},
   "outputs": [
    {
     "name": "stdout",
     "output_type": "stream",
     "text": [
      "Collecting pip\n",
      "  Downloading https://files.pythonhosted.org/packages/30/db/9e38760b32e3e7f40cce46dd5fb107b8c73840df38f0046d8e6514e675a1/pip-19.2.3-py2.py3-none-any.whl (1.4MB)\n",
      "Installing collected packages: pip\n",
      "  Found existing installation: pip 9.0.1\n",
      "    Uninstalling pip-9.0.1:\n",
      "      Successfully uninstalled pip-9.0.1\n"
     ]
    },
    {
     "name": "stderr",
     "output_type": "stream",
     "text": [
      "Exception:\n",
      "Traceback (most recent call last):\n",
      "  File \"C:\\Users\\ASUS\\Anaconda3\\lib\\shutil.py\", line 387, in _rmtree_unsafe\n",
      "    os.unlink(fullname)\n",
      "PermissionError: [WinError 5] Access is denied: 'C:\\\\Users\\\\ASUS\\\\AppData\\\\Local\\\\Temp\\\\pip-0zdzs79d-uninstall\\\\users\\\\asus\\\\anaconda3\\\\scripts\\\\pip.exe'\n",
      "\n",
      "During handling of the above exception, another exception occurred:\n",
      "\n",
      "Traceback (most recent call last):\n",
      "  File \"C:\\Users\\ASUS\\Anaconda3\\lib\\site-packages\\pip\\basecommand.py\", line 215, in main\n",
      "  File \"C:\\Users\\ASUS\\Anaconda3\\lib\\site-packages\\pip\\commands\\install.py\", line 342, in run\n",
      "  File \"C:\\Users\\ASUS\\Anaconda3\\lib\\site-packages\\pip\\req\\req_set.py\", line 795, in install\n",
      "  File \"C:\\Users\\ASUS\\Anaconda3\\lib\\site-packages\\pip\\req\\req_install.py\", line 767, in commit_uninstall\n",
      "  File \"C:\\Users\\ASUS\\Anaconda3\\lib\\site-packages\\pip\\req\\req_uninstall.py\", line 142, in commit\n",
      "  File \"C:\\Users\\ASUS\\Anaconda3\\lib\\site-packages\\pip\\_vendor\\retrying.py\", line 49, in wrapped_f\n",
      "    return Retrying(*dargs, **dkw).call(f, *args, **kw)\n",
      "  File \"C:\\Users\\ASUS\\Anaconda3\\lib\\site-packages\\pip\\_vendor\\retrying.py\", line 212, in call\n",
      "    raise attempt.get()\n",
      "  File \"C:\\Users\\ASUS\\Anaconda3\\lib\\site-packages\\pip\\_vendor\\retrying.py\", line 247, in get\n",
      "    six.reraise(self.value[0], self.value[1], self.value[2])\n",
      "  File \"C:\\Users\\ASUS\\Anaconda3\\lib\\site-packages\\six.py\", line 693, in reraise\n",
      "    raise value\n",
      "  File \"C:\\Users\\ASUS\\Anaconda3\\lib\\site-packages\\pip\\_vendor\\retrying.py\", line 200, in call\n",
      "    attempt = Attempt(fn(*args, **kwargs), attempt_number, False)\n",
      "  File \"C:\\Users\\ASUS\\Anaconda3\\lib\\site-packages\\pip\\utils\\__init__.py\", line 102, in rmtree\n",
      "  File \"C:\\Users\\ASUS\\Anaconda3\\lib\\shutil.py\", line 494, in rmtree\n",
      "    return _rmtree_unsafe(path, onerror)\n",
      "  File \"C:\\Users\\ASUS\\Anaconda3\\lib\\shutil.py\", line 384, in _rmtree_unsafe\n",
      "    _rmtree_unsafe(fullname, onerror)\n",
      "  File \"C:\\Users\\ASUS\\Anaconda3\\lib\\shutil.py\", line 384, in _rmtree_unsafe\n",
      "    _rmtree_unsafe(fullname, onerror)\n",
      "  File \"C:\\Users\\ASUS\\Anaconda3\\lib\\shutil.py\", line 384, in _rmtree_unsafe\n",
      "    _rmtree_unsafe(fullname, onerror)\n",
      "  File \"C:\\Users\\ASUS\\Anaconda3\\lib\\shutil.py\", line 389, in _rmtree_unsafe\n",
      "    onerror(os.unlink, fullname, sys.exc_info())\n",
      "  File \"C:\\Users\\ASUS\\Anaconda3\\lib\\site-packages\\pip\\utils\\__init__.py\", line 114, in rmtree_errorhandler\n",
      "PermissionError: [WinError 5] Access is denied: 'C:\\\\Users\\\\ASUS\\\\AppData\\\\Local\\\\Temp\\\\pip-0zdzs79d-uninstall\\\\users\\\\asus\\\\anaconda3\\\\scripts\\\\pip.exe'\n"
     ]
    }
   ],
   "source": [
    "!pip install --upgrade pip"
   ]
  },
  {
   "cell_type": "code",
   "execution_count": 26,
   "metadata": {},
   "outputs": [
    {
     "name": "stdout",
     "output_type": "stream",
     "text": [
      "Collecting GUICommon\n"
     ]
    },
    {
     "name": "stderr",
     "output_type": "stream",
     "text": [
      "  ERROR: Could not find a version that satisfies the requirement GUICommon (from versions: none)\n",
      "ERROR: No matching distribution found for GUICommon\n"
     ]
    }
   ],
   "source": [
    "!pip install GUICommon"
   ]
  },
  {
   "cell_type": "code",
   "execution_count": 1,
   "metadata": {
    "collapsed": true
   },
   "outputs": [],
   "source": [
    "\n",
    "import tkinter"
   ]
  },
  {
   "cell_type": "code",
   "execution_count": null,
   "metadata": {},
   "outputs": [],
   "source": []
  },
  {
   "cell_type": "code",
   "execution_count": 4,
   "metadata": {},
   "outputs": [
    {
     "name": "stderr",
     "output_type": "stream",
     "text": [
      "train.py:11: SettingWithCopyWarning: \n",
      "A value is trying to be set on a copy of a slice from a DataFrame\n",
      "\n",
      "See the caveats in the documentation: http://pandas.pydata.org/pandas-docs/stable/indexing.html#indexing-view-versus-copy\n",
      "  data[\"y_label\"][data.total > 4500] = 1\n",
      "train.py:12: SettingWithCopyWarning: \n",
      "A value is trying to be set on a copy of a slice from a DataFrame\n",
      "\n",
      "See the caveats in the documentation: http://pandas.pydata.org/pandas-docs/stable/indexing.html#indexing-view-versus-copy\n",
      "  data[\"y_label\"][data.total <= 4500] = 0\n"
     ]
    }
   ],
   "source": [
    "!python train.py"
   ]
  },
  {
   "cell_type": "code",
   "execution_count": null,
   "metadata": {
    "collapsed": true
   },
   "outputs": [],
   "source": []
  },
  {
   "cell_type": "code",
   "execution_count": null,
   "metadata": {},
   "outputs": [
    {
     "name": "stdout",
     "output_type": "stream",
     "text": [
      "[2, 2, 2, 2, 2, 2, 2, 2, 2, 6] ['10th_percentage', '12th_percentage', 'collegePercentage', 'Automata(Score_812)', 'Computer Science(Score_189)', 'WriteX_Total Score', 'Logical Ability(Score_13)', 'Computer Programming(Score_5)', 'Quantitative Ability (Advanced)(Score_2)', 'English Comprehension(Score_1)']\n"
     ]
    }
   ],
   "source": [
    "\n",
    "import os\n",
    "import numpy as np\n",
    "import seaborn as sns\n",
    "import pandas as pd\n",
    "import matplotlib.pyplot as plt\n",
    "import sklearn\n",
    "from sklearn.metrics import accuracy_score as score\n",
    "from sklearn.model_selection import train_test_split\n",
    "import numpy as np\n",
    "from sklearn.model_selection import train_test_split\n",
    "dict={1:'10th_percentage', 2:'12th_percentage', 3:'collegePercentage',\n",
    "       4:'WriteX_Total Score', 5:'English Comprehension(Score_1)',\n",
    "       6: 'Logical Ability(Score_13)',\n",
    "        7:'Quantitative Ability (Advanced)(Score_2)',\n",
    "       8:'Computer Programming(Score_5)',9:'Automata(Score_812)', 10:'Computer Science(Score_189)'}\n",
    "data = pd.read_csv('./data1.csv' , header='infer')\n",
    "d=data.iloc[:,[8,9,10,16,17,18,19,20,21,22,23,24,25,26,27,30,32]].copy()\n",
    "from tkinter import *\n",
    "from tkinter import messagebox\n",
    "# connect to the databse.\n",
    "\n",
    "# cursor to move around the databse\n",
    "\n",
    "# empty list to later append the ids from the database\n",
    "ids = []\n",
    "\n",
    "# tkinter window\n",
    "class Application:\n",
    "    def __init__(self, master):\n",
    "        self.master = master\n",
    "\n",
    "        # creating the frames in the master\n",
    "        self.left = Frame(master, width=1000, height=720, bg='lightgreen')\n",
    "        self.left.pack(side=LEFT)\n",
    "\n",
    "        self.right = Frame(master, width=400, height=720, bg='steelblue')\n",
    "        self.right.pack(side=RIGHT)\n",
    "\n",
    "        # labels for the window\n",
    "        self.heading = Label(self.left, text=\"Goal Seeking\", font=('arial 40 bold'), fg='black', bg='lightgreen')\n",
    "        self.heading.place(x=0, y=0)\n",
    "        # ten\n",
    "        self.ten = Label(self.left, text=\"10th\", font=('arial 18 bold'), fg='black', bg='lightgreen')\n",
    "        self.ten.place(x=0, y=100)\n",
    "\n",
    "        # twelve\n",
    "        self.twelve = Label(self.left, text=\"12th\", font=('arial 18 bold'), fg='black', bg='lightgreen')\n",
    "        self.twelve.place(x=550, y=100)\n",
    "\n",
    "        # gender\n",
    "        self.cgpa = Label(self.left, text=\"cgpa\", font=('arial 18 bold'), fg='black', bg='lightgreen')\n",
    "        self.cgpa.place(x=0, y=140)\n",
    "\n",
    "        \n",
    "        self.writex = Label(self.left, text=\"Writex\", font=('arial 18 bold'), fg='black', bg='lightgreen')\n",
    "        self.writex.place(x=550, y=140)\n",
    "        \n",
    "        # location\n",
    "        self.automata = Label(self.left, text=\"Automata\", font=('arial 18 bold'), fg='black', bg='lightgreen')\n",
    "        self.automata.place(x=0, y=180)\n",
    "\n",
    "       \n",
    "        # phone\n",
    "        self.cs = Label(self.left, text=\"Computer Sc.\", font=('arial 18 bold'), fg='black', bg='lightgreen')\n",
    "        self.cs.place(x=0, y=220)\n",
    "\n",
    "        self.logical = Label(self.left, text=\"Logical\", font=('arial 18 bold'), fg='black', bg='lightgreen')\n",
    "        self.logical.place(x=0, y=260)\n",
    "\n",
    "        self.cp = Label(self.left, text=\"Comp. Programming\", font=('arial 18 bold'), fg='black', bg='lightgreen')\n",
    "        self.cp.place(x=0, y=300)\n",
    "\n",
    "        self.quant = Label(self.left, text=\"Quant\", font=('arial 18 bold'), fg='black', bg='lightgreen')\n",
    "        self.quant.place(x=0, y=340)\n",
    "        \n",
    "        self.eng = Label(self.left, text=\"English\", font=('arial 18 bold'), fg='black', bg='lightgreen')\n",
    "        self.eng.place(x=0, y=380)\n",
    "        \n",
    "#efewfwef\n",
    "\n",
    "        # ten\n",
    "        self.ten = Entry(self.left, width=30)\n",
    "        self.ten.place(x=300, y=100)\n",
    "\n",
    "        # twelve\n",
    "        self.twelve = Entry(self.left, width=30)\n",
    "        self.twelve.place(x=800, y=100)\n",
    "\n",
    "        # gender\n",
    "        self.cgpa = Entry(self.left, width=30)\n",
    "        self.cgpa.place(x=300, y=140)\n",
    "\n",
    "        \n",
    "        self.writex = Entry(self.left, width=30)\n",
    "        self.writex.place(x=800, y=140)\n",
    "        \n",
    "        # location\n",
    "        self.automata = Entry(self.left, width=30)\n",
    "        self.automata.place(x=300, y=180)\n",
    "        \n",
    "        # phone\n",
    "        self.cs = Entry(self.left, width=30)\n",
    "        self.cs.place(x=300, y=220)\n",
    " \n",
    "        self.logical = Entry(self.left, width=30)\n",
    "        self.logical.place(x=300, y=260)\n",
    "\n",
    "        self.cp = Entry(self.left, width=30)\n",
    "        self.cp.place(x=300, y=300)\n",
    "\n",
    "        self.quant = Entry(self.left, width=30)\n",
    "        self.quant.place(x=300, y=340)\n",
    "\n",
    "        self.eng = Entry(self.left, width=30)\n",
    "        self.eng.place(x=300, y=380)\n",
    "    \n",
    "        # Entries for all labels============================================================\n",
    "\n",
    "\n",
    "        # button to perform a command\n",
    "        self.submit = Button(self.left, text=\" RESULT \", width=20, height=2, bg='steelblue', command=self.add_appointment)\n",
    "        self.submit.place(x=300, y=450)\n",
    "    \n",
    "        # getting the number of appointments fixed to view in the log\n",
    "     # funtion to call when the submit button is clicked\n",
    "    def add_appointment(self):\n",
    "        # getting the user inputs\\\n",
    "\n",
    "        # checking if the user input is empty\n",
    "        a1=self.ten.get()\n",
    "        a2=self.twelve.get()\n",
    "        a3=self.cgpa.get()\n",
    "        a4=self.automata.get()\n",
    "        a5=self.cs.get()      \n",
    "        a6=self.writex.get()\n",
    "        a7=self.logical.get()\n",
    "        a8=self.cp.get()\n",
    "        a9=self.quant.get()\n",
    "        a10=self.eng.get()\n",
    "        if  a1 == '' or a2 == '' or a3 == '' or a4 == '' or a5 == '' or a6 == '' or a7 == '' or a8 == '' or a9 == '' or a10 == '':\n",
    "            messagebox.showinfo(\"Warning\", \"Please Fill Up All Boxes\")\n",
    "        else:\n",
    "            # now we add to the database\n",
    "            l=[]\n",
    "            r=[]\n",
    "            a1=int(a1);a2=int(a2);a3=int(a3);a4=int(a4);a5=int(a5);a6=int(a6);a7=int(a7);a8=int(a8);a9=int(a9);a10=int(a10);\n",
    "            if a1!=0:\n",
    "                l.append(int(a1))\n",
    "                r.append(dict[1])\n",
    "            if a2!=0:\n",
    "                l.append(a2)\n",
    "                r.append(dict[2])\n",
    "            if a3!=0:\n",
    "                l.append(a3)\n",
    "                r.append(dict[3])\n",
    "            if a4!=0:\n",
    "                l.append(a4)\n",
    "                r.append(dict[9])\n",
    "            if a5!=0:\n",
    "                l.append(a5)\n",
    "                r.append(dict[10])            \n",
    "            if a6!=0:\n",
    "                l.append(a6)\n",
    "                r.append(dict[4])            \n",
    "            if a7!=0:\n",
    "                l.append(a7)\n",
    "                r.append(dict[6])            \n",
    "            if a8!=0:\n",
    "                l.append(a8)\n",
    "                r.append(dict[8])            \n",
    "            if a9!=0:\n",
    "                l.append(a9)\n",
    "                r.append(dict[7])            \n",
    "            if a10!=0:\n",
    "                l.append(a10)\n",
    "                r.append(dict[5])\n",
    "            print(l,r)\n",
    "            from sklearn.linear_model import LinearRegression\n",
    "            X = np.asarray(d[r])\n",
    "            Y = np.asarray(d['Total'])\n",
    "            X_train, X_test, y_train, y_test = train_test_split(X, Y, test_size=0.33, shuffle= True)\n",
    "            lineReg = LinearRegression()\n",
    "            lineReg.fit(X_train, y_train)\n",
    "            X = np.asarray([l])   \n",
    "            print(X)\n",
    "            s=lineReg.predict(X)[0]\n",
    "            messagebox.showinfo(\" PREDICTION     \",  f\"          {s}  \")\n",
    "            \n",
    "# creating the object\n",
    "root = Tk()\n",
    "b = Application(root)\n",
    "\n",
    "# resolution of the window\n",
    "root.geometry(\"1200x720+0+0\")\n",
    "\n",
    "# preventing the resize feature\n",
    "root.resizable(False, False)\n",
    "\n",
    "# end the loop\n",
    "root.mainloop()\n"
   ]
  },
  {
   "cell_type": "code",
   "execution_count": 29,
   "metadata": {},
   "outputs": [
    {
     "name": "stdout",
     "output_type": "stream",
     "text": [
      "Requirement already up-to-date: pip in c:\\users\\asus\\anaconda3\\lib\\site-packages (19.2.3)\n"
     ]
    },
    {
     "name": "stderr",
     "output_type": "stream",
     "text": [
      "WARNING: Retrying (Retry(total=4, connect=None, read=None, redirect=None, status=None)) after connection broken by 'NewConnectionError('<pip._vendor.urllib3.connection.VerifiedHTTPSConnection object at 0x000002AC112039B0>: Failed to establish a new connection: [Errno 11001] getaddrinfo failed',)': /simple/pip/\n",
      "WARNING: Retrying (Retry(total=3, connect=None, read=None, redirect=None, status=None)) after connection broken by 'NewConnectionError('<pip._vendor.urllib3.connection.VerifiedHTTPSConnection object at 0x000002AC11202390>: Failed to establish a new connection: [Errno 11001] getaddrinfo failed',)': /simple/pip/\n",
      "WARNING: Retrying (Retry(total=2, connect=None, read=None, redirect=None, status=None)) after connection broken by 'NewConnectionError('<pip._vendor.urllib3.connection.VerifiedHTTPSConnection object at 0x000002AC11202748>: Failed to establish a new connection: [Errno 11001] getaddrinfo failed',)': /simple/pip/\n",
      "WARNING: Retrying (Retry(total=1, connect=None, read=None, redirect=None, status=None)) after connection broken by 'NewConnectionError('<pip._vendor.urllib3.connection.VerifiedHTTPSConnection object at 0x000002AC11202898>: Failed to establish a new connection: [Errno 11001] getaddrinfo failed',)': /simple/pip/\n",
      "WARNING: Retrying (Retry(total=0, connect=None, read=None, redirect=None, status=None)) after connection broken by 'NewConnectionError('<pip._vendor.urllib3.connection.VerifiedHTTPSConnection object at 0x000002AC11202C50>: Failed to establish a new connection: [Errno 11001] getaddrinfo failed',)': /simple/pip/\n"
     ]
    }
   ],
   "source": [
    "!pip install --upgrade pip"
   ]
  },
  {
   "cell_type": "code",
   "execution_count": null,
   "metadata": {
    "collapsed": true
   },
   "outputs": [],
   "source": []
  }
 ],
 "metadata": {
  "kernelspec": {
   "display_name": "Python 3",
   "language": "python",
   "name": "python3"
  },
  "language_info": {
   "codemirror_mode": {
    "name": "ipython",
    "version": 3
   },
   "file_extension": ".py",
   "mimetype": "text/x-python",
   "name": "python",
   "nbconvert_exporter": "python",
   "pygments_lexer": "ipython3",
   "version": "3.6.3"
  }
 },
 "nbformat": 4,
 "nbformat_minor": 2
}
